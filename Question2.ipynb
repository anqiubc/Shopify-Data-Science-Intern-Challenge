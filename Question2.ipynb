{
 "cells": [
  {
   "cell_type": "markdown",
   "id": "92caa2ea-0457-4421-aeb7-c2aa680fa3cf",
   "metadata": {},
   "source": [
    "## Summer 2022 Data Science Intern Challenge   \n",
    "## Question 2: \n",
    "\n",
    "**by Anqi Li**  \n",
    "2022/01/10  \n",
    "For this question you’ll need to use SQL. Follow this link to access the data set required for the challenge. Please use queries to answer the following questions. Paste your queries along with your final numerical answers below.\n"
   ]
  },
  {
   "cell_type": "markdown",
   "id": "bcbc435a-62ff-487d-bc5b-88f3e781f7a3",
   "metadata": {},
   "source": [
    "### a. How many orders were shipped by Speedy Express in total?"
   ]
  },
  {
   "cell_type": "markdown",
   "id": "da617aef-9d42-4143-b1fa-46ad4825c8aa",
   "metadata": {},
   "source": [
    "``` mysql\n",
    "SELECT COUNT(OrderID) as OrderQuantity\n",
    "FROM Orders o LEFT JOIN Shippers s\n",
    "ON o.ShipperID=s.ShipperID\n",
    "WHERE s.ShipperName=\"Speedy Express\";\n",
    "```"
   ]
  },
  {
   "cell_type": "markdown",
   "id": "b102072e-ebb4-4c30-b7ff-42397708ba9a",
   "metadata": {},
   "source": [
    "In total, **54** Orders were shipped by Speedy Express."
   ]
  },
  {
   "cell_type": "markdown",
   "id": "692ab7af-b149-4b72-b01e-789fe577a3de",
   "metadata": {},
   "source": [
    "### b. What is the last name of the employee with the most orders?"
   ]
  },
  {
   "cell_type": "markdown",
   "id": "a73ece15-5888-46d6-ae7c-a3d322ec8ba7",
   "metadata": {},
   "source": [
    "``` mysql\n",
    "SELECT LastName FROM Employees\n",
    "WHERE EmployeeID IN(\n",
    "SELECT EmployeeID\n",
    "FROM Orders\n",
    "GROUP BY EmployeeID\n",
    "ORDER BY COUNT(*) DESC\n",
    "LIMIT 1);\n",
    "```"
   ]
  },
  {
   "cell_type": "markdown",
   "id": "685893ba-cb90-4469-9019-d33cc152da49",
   "metadata": {},
   "source": [
    "The last name of the employee with the most orders is **Peacock**."
   ]
  },
  {
   "cell_type": "markdown",
   "id": "0d606de8-8dad-4b99-a2ed-e02b217fd38c",
   "metadata": {},
   "source": [
    "### c. What product was ordered the most by customers in Germany?"
   ]
  },
  {
   "cell_type": "markdown",
   "id": "241ac110-1389-411c-aa6a-45f670d49cc1",
   "metadata": {},
   "source": [
    "``` mysql\n",
    "SELECT p.ProductName,SUM(od.Quantity) as TotalQuantity\n",
    "FROM Products p INNER JOIN OrderDetails od\n",
    "ON p.ProductID=od.ProductID\n",
    "INNER JOIN Suppliers s\n",
    "ON s.SupplierID=p.SupplierID\n",
    "WHERE s.Country=\"Germany\"\n",
    "GROUP BY p.ProductID\n",
    "ORDER BY TotalQuantity DESC\n",
    "LIMIT 1;\n",
    "```"
   ]
  },
  {
   "cell_type": "markdown",
   "id": "3ae396d1-eaa7-4d7d-b112-f349f174e9fa",
   "metadata": {},
   "source": [
    "**Gumbär Gummibärchen** was ordered the most by customers in Germany."
   ]
  }
 ],
 "metadata": {
  "kernelspec": {
   "display_name": "Python 3 (ipykernel)",
   "language": "python",
   "name": "python3"
  },
  "language_info": {
   "codemirror_mode": {
    "name": "ipython",
    "version": 3
   },
   "file_extension": ".py",
   "mimetype": "text/x-python",
   "name": "python",
   "nbconvert_exporter": "python",
   "pygments_lexer": "ipython3",
   "version": "3.9.5"
  }
 },
 "nbformat": 4,
 "nbformat_minor": 5
}
