{
 "cells": [
  {
   "cell_type": "markdown",
   "id": "64274358-775a-4e86-b986-b3964ee2ebc6",
   "metadata": {},
   "source": [
    "## Summer 2022 Data Science Intern Challenge   \n",
    "## Question 1: \n",
    "\n",
    "**by Anqi Li**  \n",
    "2022/01/07\n",
    "\n",
    "Given some sample data, write a program to answer the following: click here to access the required data set\n",
    "\n",
    "On Shopify, we have exactly 100 sneaker shops, and each of these shops sells only one model of shoe. We want to do some analysis of the average order value (AOV). When we look at orders data over a 30 day window, we naively calculate an AOV of $3145.13. Given that we know these shops are selling sneakers, a relatively affordable item, something seems wrong with our analysis. "
   ]
  },
  {
   "cell_type": "markdown",
   "id": "b587cadd-9276-4c5c-9459-9dea1b79628b",
   "metadata": {},
   "source": [
    "### a. Think about what could be going wrong with our calculation. Think about a better way to evaluate this data. "
   ]
  },
  {
   "cell_type": "markdown",
   "id": "cb990f05-e618-49d1-beeb-92c1e71dc4d6",
   "metadata": {
    "tags": []
   },
   "source": [
    "#### (1) Importing data"
   ]
  },
  {
   "cell_type": "code",
   "execution_count": 1,
   "id": "dbe021f4-6af5-4e43-8a48-45754153acdd",
   "metadata": {},
   "outputs": [
    {
     "data": {
      "text/html": [
       "<div>\n",
       "<style scoped>\n",
       "    .dataframe tbody tr th:only-of-type {\n",
       "        vertical-align: middle;\n",
       "    }\n",
       "\n",
       "    .dataframe tbody tr th {\n",
       "        vertical-align: top;\n",
       "    }\n",
       "\n",
       "    .dataframe thead th {\n",
       "        text-align: right;\n",
       "    }\n",
       "</style>\n",
       "<table border=\"1\" class=\"dataframe\">\n",
       "  <thead>\n",
       "    <tr style=\"text-align: right;\">\n",
       "      <th></th>\n",
       "      <th>order_id</th>\n",
       "      <th>shop_id</th>\n",
       "      <th>user_id</th>\n",
       "      <th>order_amount</th>\n",
       "      <th>total_items</th>\n",
       "      <th>payment_method</th>\n",
       "      <th>created_at</th>\n",
       "    </tr>\n",
       "  </thead>\n",
       "  <tbody>\n",
       "    <tr>\n",
       "      <th>0</th>\n",
       "      <td>1</td>\n",
       "      <td>53</td>\n",
       "      <td>746</td>\n",
       "      <td>224</td>\n",
       "      <td>2</td>\n",
       "      <td>cash</td>\n",
       "      <td>2017-03-13 12:36:56</td>\n",
       "    </tr>\n",
       "    <tr>\n",
       "      <th>1</th>\n",
       "      <td>2</td>\n",
       "      <td>92</td>\n",
       "      <td>925</td>\n",
       "      <td>90</td>\n",
       "      <td>1</td>\n",
       "      <td>cash</td>\n",
       "      <td>2017-03-03 17:38:52</td>\n",
       "    </tr>\n",
       "    <tr>\n",
       "      <th>2</th>\n",
       "      <td>3</td>\n",
       "      <td>44</td>\n",
       "      <td>861</td>\n",
       "      <td>144</td>\n",
       "      <td>1</td>\n",
       "      <td>cash</td>\n",
       "      <td>2017-03-14 4:23:56</td>\n",
       "    </tr>\n",
       "    <tr>\n",
       "      <th>3</th>\n",
       "      <td>4</td>\n",
       "      <td>18</td>\n",
       "      <td>935</td>\n",
       "      <td>156</td>\n",
       "      <td>1</td>\n",
       "      <td>credit_card</td>\n",
       "      <td>2017-03-26 12:43:37</td>\n",
       "    </tr>\n",
       "    <tr>\n",
       "      <th>4</th>\n",
       "      <td>5</td>\n",
       "      <td>18</td>\n",
       "      <td>883</td>\n",
       "      <td>156</td>\n",
       "      <td>1</td>\n",
       "      <td>credit_card</td>\n",
       "      <td>2017-03-01 4:35:11</td>\n",
       "    </tr>\n",
       "  </tbody>\n",
       "</table>\n",
       "</div>"
      ],
      "text/plain": [
       "   order_id  shop_id  user_id  order_amount  total_items payment_method  \\\n",
       "0         1       53      746           224            2           cash   \n",
       "1         2       92      925            90            1           cash   \n",
       "2         3       44      861           144            1           cash   \n",
       "3         4       18      935           156            1    credit_card   \n",
       "4         5       18      883           156            1    credit_card   \n",
       "\n",
       "            created_at  \n",
       "0  2017-03-13 12:36:56  \n",
       "1  2017-03-03 17:38:52  \n",
       "2   2017-03-14 4:23:56  \n",
       "3  2017-03-26 12:43:37  \n",
       "4   2017-03-01 4:35:11  "
      ]
     },
     "execution_count": 1,
     "metadata": {},
     "output_type": "execute_result"
    }
   ],
   "source": [
    "import pandas as pd\n",
    "#load data as data frame\n",
    "df = pd.read_csv('2019 Winter Data Science Intern Challenge Data Set - Sheet1.csv')\n",
    "#check data\n",
    "df.head()"
   ]
  },
  {
   "cell_type": "markdown",
   "id": "9276439e-a1f1-4bf2-8e03-037b25fbafb0",
   "metadata": {},
   "source": [
    "#### (2) Calculate the AOV and evaluate this data"
   ]
  },
  {
   "cell_type": "code",
   "execution_count": 2,
   "id": "e68624a6-83ab-4738-9ed8-2d12853cbc83",
   "metadata": {},
   "outputs": [
    {
     "name": "stdout",
     "output_type": "stream",
     "text": [
      "The number of sneakers shops: 100\n",
      "The total number of orders: 5000\n",
      "The total revenue: $15725640\n",
      "The average order value: $3145.13\n"
     ]
    }
   ],
   "source": [
    "print(f\"The number of sneakers shops: {df['shop_id'].nunique()}\")\n",
    "print(f\"The total number of orders: {len(df)}\")\n",
    "print(f\"The total revenue: ${df['order_amount'].sum()}\")\n",
    "print(f\"The average order value: ${round(df['order_amount'].sum()/len(df), 2)}\")"
   ]
  },
  {
   "cell_type": "markdown",
   "id": "7ff8048e-620a-444c-9f66-9eec0be347af",
   "metadata": {},
   "source": [
    "Given that we know these shops are selling sneakers, the AOV seems much higher than normal expectation. \n",
    "According to my speculation, this may indicate we have outliers pushing the value way up.  \n",
    "I will do the following approach to check if this is true."
   ]
  },
  {
   "cell_type": "code",
   "execution_count": 3,
   "id": "7d60735a-2e98-45b1-9a8b-39f9cbf363b4",
   "metadata": {},
   "outputs": [
    {
     "data": {
      "text/plain": [
       "count      5000.000000\n",
       "mean       3145.128000\n",
       "std       41282.539349\n",
       "min          90.000000\n",
       "25%         163.000000\n",
       "50%         284.000000\n",
       "75%         390.000000\n",
       "max      704000.000000\n",
       "Name: order_amount, dtype: float64"
      ]
     },
     "execution_count": 3,
     "metadata": {},
     "output_type": "execute_result"
    }
   ],
   "source": [
    "df['order_amount'].describe()"
   ]
  },
  {
   "cell_type": "code",
   "execution_count": 4,
   "id": "a6c7b39b-e794-4279-9c8b-f6e78ccc931a",
   "metadata": {},
   "outputs": [
    {
     "data": {
      "image/png": "[encoded data removed]",
      "text/plain": [
       "<Figure size 432x288 with 1 Axes>"
      ]
     },
     "metadata": {
      "needs_background": "light"
     },
     "output_type": "display_data"
    }
   ],
   "source": [
    "#A simple box plot to check if outliers exist\n",
    "boxplot = df.boxplot(column=['order_amount'])"
   ]
  },
  {
   "cell_type": "markdown",
   "id": "1230817d-18a3-4823-a2e0-cf8f8500c9e7",
   "metadata": {},
   "source": [
    "It is easy to see that there's outliers. The AOV is not representative (and misleading...) for our analysis.  \n",
    "I did a simple data filter to monitor the outliers here."
   ]
  },
  {
   "cell_type": "code",
   "execution_count": 5,
   "id": "0f739ed7-984f-4935-a2bc-3cd7146bc8f7",
   "metadata": {},
   "outputs": [
    {
     "data": {
      "text/html": [
       "<div>\n",
       "<style scoped>\n",
       "    .dataframe tbody tr th:only-of-type {\n",
       "        vertical-align: middle;\n",
       "    }\n",
       "\n",
       "    .dataframe tbody tr th {\n",
       "        vertical-align: top;\n",
       "    }\n",
       "\n",
       "    .dataframe thead th {\n",
       "        text-align: right;\n",
       "    }\n",
       "</style>\n",
       "<table border=\"1\" class=\"dataframe\">\n",
       "  <thead>\n",
       "    <tr style=\"text-align: right;\">\n",
       "      <th></th>\n",
       "      <th>order_id</th>\n",
       "      <th>shop_id</th>\n",
       "      <th>user_id</th>\n",
       "      <th>order_amount</th>\n",
       "      <th>total_items</th>\n",
       "      <th>payment_method</th>\n",
       "      <th>created_at</th>\n",
       "    </tr>\n",
       "  </thead>\n",
       "  <tbody>\n",
       "    <tr>\n",
       "      <th>15</th>\n",
       "      <td>16</td>\n",
       "      <td>42</td>\n",
       "      <td>607</td>\n",
       "      <td>704000</td>\n",
       "      <td>2000</td>\n",
       "      <td>credit_card</td>\n",
       "      <td>2017-03-07 4:00:00</td>\n",
       "    </tr>\n",
       "    <tr>\n",
       "      <th>60</th>\n",
       "      <td>61</td>\n",
       "      <td>42</td>\n",
       "      <td>607</td>\n",
       "      <td>704000</td>\n",
       "      <td>2000</td>\n",
       "      <td>credit_card</td>\n",
       "      <td>2017-03-04 4:00:00</td>\n",
       "    </tr>\n",
       "    <tr>\n",
       "      <th>520</th>\n",
       "      <td>521</td>\n",
       "      <td>42</td>\n",
       "      <td>607</td>\n",
       "      <td>704000</td>\n",
       "      <td>2000</td>\n",
       "      <td>credit_card</td>\n",
       "      <td>2017-03-02 4:00:00</td>\n",
       "    </tr>\n",
       "    <tr>\n",
       "      <th>1104</th>\n",
       "      <td>1105</td>\n",
       "      <td>42</td>\n",
       "      <td>607</td>\n",
       "      <td>704000</td>\n",
       "      <td>2000</td>\n",
       "      <td>credit_card</td>\n",
       "      <td>2017-03-24 4:00:00</td>\n",
       "    </tr>\n",
       "    <tr>\n",
       "      <th>1362</th>\n",
       "      <td>1363</td>\n",
       "      <td>42</td>\n",
       "      <td>607</td>\n",
       "      <td>704000</td>\n",
       "      <td>2000</td>\n",
       "      <td>credit_card</td>\n",
       "      <td>2017-03-15 4:00:00</td>\n",
       "    </tr>\n",
       "    <tr>\n",
       "      <th>1436</th>\n",
       "      <td>1437</td>\n",
       "      <td>42</td>\n",
       "      <td>607</td>\n",
       "      <td>704000</td>\n",
       "      <td>2000</td>\n",
       "      <td>credit_card</td>\n",
       "      <td>2017-03-11 4:00:00</td>\n",
       "    </tr>\n",
       "    <tr>\n",
       "      <th>1562</th>\n",
       "      <td>1563</td>\n",
       "      <td>42</td>\n",
       "      <td>607</td>\n",
       "      <td>704000</td>\n",
       "      <td>2000</td>\n",
       "      <td>credit_card</td>\n",
       "      <td>2017-03-19 4:00:00</td>\n",
       "    </tr>\n",
       "    <tr>\n",
       "      <th>1602</th>\n",
       "      <td>1603</td>\n",
       "      <td>42</td>\n",
       "      <td>607</td>\n",
       "      <td>704000</td>\n",
       "      <td>2000</td>\n",
       "      <td>credit_card</td>\n",
       "      <td>2017-03-17 4:00:00</td>\n",
       "    </tr>\n",
       "    <tr>\n",
       "      <th>2153</th>\n",
       "      <td>2154</td>\n",
       "      <td>42</td>\n",
       "      <td>607</td>\n",
       "      <td>704000</td>\n",
       "      <td>2000</td>\n",
       "      <td>credit_card</td>\n",
       "      <td>2017-03-12 4:00:00</td>\n",
       "    </tr>\n",
       "    <tr>\n",
       "      <th>2297</th>\n",
       "      <td>2298</td>\n",
       "      <td>42</td>\n",
       "      <td>607</td>\n",
       "      <td>704000</td>\n",
       "      <td>2000</td>\n",
       "      <td>credit_card</td>\n",
       "      <td>2017-03-07 4:00:00</td>\n",
       "    </tr>\n",
       "    <tr>\n",
       "      <th>2835</th>\n",
       "      <td>2836</td>\n",
       "      <td>42</td>\n",
       "      <td>607</td>\n",
       "      <td>704000</td>\n",
       "      <td>2000</td>\n",
       "      <td>credit_card</td>\n",
       "      <td>2017-03-28 4:00:00</td>\n",
       "    </tr>\n",
       "    <tr>\n",
       "      <th>2969</th>\n",
       "      <td>2970</td>\n",
       "      <td>42</td>\n",
       "      <td>607</td>\n",
       "      <td>704000</td>\n",
       "      <td>2000</td>\n",
       "      <td>credit_card</td>\n",
       "      <td>2017-03-28 4:00:00</td>\n",
       "    </tr>\n",
       "    <tr>\n",
       "      <th>3332</th>\n",
       "      <td>3333</td>\n",
       "      <td>42</td>\n",
       "      <td>607</td>\n",
       "      <td>704000</td>\n",
       "      <td>2000</td>\n",
       "      <td>credit_card</td>\n",
       "      <td>2017-03-24 4:00:00</td>\n",
       "    </tr>\n",
       "    <tr>\n",
       "      <th>4056</th>\n",
       "      <td>4057</td>\n",
       "      <td>42</td>\n",
       "      <td>607</td>\n",
       "      <td>704000</td>\n",
       "      <td>2000</td>\n",
       "      <td>credit_card</td>\n",
       "      <td>2017-03-28 4:00:00</td>\n",
       "    </tr>\n",
       "    <tr>\n",
       "      <th>4646</th>\n",
       "      <td>4647</td>\n",
       "      <td>42</td>\n",
       "      <td>607</td>\n",
       "      <td>704000</td>\n",
       "      <td>2000</td>\n",
       "      <td>credit_card</td>\n",
       "      <td>2017-03-02 4:00:00</td>\n",
       "    </tr>\n",
       "    <tr>\n",
       "      <th>4868</th>\n",
       "      <td>4869</td>\n",
       "      <td>42</td>\n",
       "      <td>607</td>\n",
       "      <td>704000</td>\n",
       "      <td>2000</td>\n",
       "      <td>credit_card</td>\n",
       "      <td>2017-03-22 4:00:00</td>\n",
       "    </tr>\n",
       "    <tr>\n",
       "      <th>4882</th>\n",
       "      <td>4883</td>\n",
       "      <td>42</td>\n",
       "      <td>607</td>\n",
       "      <td>704000</td>\n",
       "      <td>2000</td>\n",
       "      <td>credit_card</td>\n",
       "      <td>2017-03-25 4:00:00</td>\n",
       "    </tr>\n",
       "  </tbody>\n",
       "</table>\n",
       "</div>"
      ],
      "text/plain": [
       "      order_id  shop_id  user_id  order_amount  total_items payment_method  \\\n",
       "15          16       42      607        704000         2000    credit_card   \n",
       "60          61       42      607        704000         2000    credit_card   \n",
       "520        521       42      607        704000         2000    credit_card   \n",
       "1104      1105       42      607        704000         2000    credit_card   \n",
       "1362      1363       42      607        704000         2000    credit_card   \n",
       "1436      1437       42      607        704000         2000    credit_card   \n",
       "1562      1563       42      607        704000         2000    credit_card   \n",
       "1602      1603       42      607        704000         2000    credit_card   \n",
       "2153      2154       42      607        704000         2000    credit_card   \n",
       "2297      2298       42      607        704000         2000    credit_card   \n",
       "2835      2836       42      607        704000         2000    credit_card   \n",
       "2969      2970       42      607        704000         2000    credit_card   \n",
       "3332      3333       42      607        704000         2000    credit_card   \n",
       "4056      4057       42      607        704000         2000    credit_card   \n",
       "4646      4647       42      607        704000         2000    credit_card   \n",
       "4868      4869       42      607        704000         2000    credit_card   \n",
       "4882      4883       42      607        704000         2000    credit_card   \n",
       "\n",
       "              created_at  \n",
       "15    2017-03-07 4:00:00  \n",
       "60    2017-03-04 4:00:00  \n",
       "520   2017-03-02 4:00:00  \n",
       "1104  2017-03-24 4:00:00  \n",
       "1362  2017-03-15 4:00:00  \n",
       "1436  2017-03-11 4:00:00  \n",
       "1562  2017-03-19 4:00:00  \n",
       "1602  2017-03-17 4:00:00  \n",
       "2153  2017-03-12 4:00:00  \n",
       "2297  2017-03-07 4:00:00  \n",
       "2835  2017-03-28 4:00:00  \n",
       "2969  2017-03-28 4:00:00  \n",
       "3332  2017-03-24 4:00:00  \n",
       "4056  2017-03-28 4:00:00  \n",
       "4646  2017-03-02 4:00:00  \n",
       "4868  2017-03-22 4:00:00  \n",
       "4882  2017-03-25 4:00:00  "
      ]
     },
     "execution_count": 5,
     "metadata": {},
     "output_type": "execute_result"
    }
   ],
   "source": [
    "outlier = df[df.order_amount>200000]\n",
    "outlier"
   ]
  },
  {
   "cell_type": "markdown",
   "id": "366ce49f-3788-4d19-96c5-2e409ab91a45",
   "metadata": {},
   "source": [
    "By looking at the outliers, the shop_id, user_id, order_amount, total_items, payment_method and even the timestamp is exactly the same - which is almost impossible. I would say there is be an error in the data generation process which needs to be checked.   \n",
    "However, given no further information(like if this transition exists), removing them is very arbitrary, so I would first keep the outliers for my following calculation for the metrics. And if I know the correct data, I would correct the following values as well."
   ]
  },
  {
   "cell_type": "markdown",
   "id": "36165504-cde3-4e68-9b52-629ee84dc622",
   "metadata": {
    "tags": []
   },
   "source": [
    "### b. What metric would you report for this dataset?\n",
    "\n",
    "The fact that outliers exist means using AOV to evaluate is not proper here.  \n",
    "Actually, only by looking at \"average\" order value is not a proper approach to evaluate customers' purchase behavior. When evaluate user purchase behaviours, we should consider all three measures of central tendency - mean, median and mode. \n"
   ]
  },
  {
   "cell_type": "markdown",
   "id": "cd26c613-449b-45b9-b894-be9736456da9",
   "metadata": {},
   "source": [
    "#### Median order value\n",
    "Using the median is more robust to deal with the situation with the outlier. "
   ]
  },
  {
   "cell_type": "code",
   "execution_count": 6,
   "id": "861d6731-4d9a-4082-959d-02224483ab62",
   "metadata": {},
   "outputs": [
    {
     "name": "stdout",
     "output_type": "stream",
     "text": [
      "Median order value: $284.0\n"
     ]
    }
   ],
   "source": [
    "median_order_value=df['order_amount'].median()\n",
    "print(f\"Median order value: ${median_order_value}\")"
   ]
  },
  {
   "cell_type": "markdown",
   "id": "3ef67ab7-8abd-41f5-8489-75e0a14f9201",
   "metadata": {},
   "source": [
    "#### Modal order value"
   ]
  },
  {
   "cell_type": "code",
   "execution_count": 7,
   "id": "f382f2e9-c808-4875-aa4c-3383a5647731",
   "metadata": {},
   "outputs": [
    {
     "name": "stdout",
     "output_type": "stream",
     "text": [
      "Modal order value: $153.0\n",
      "There are 87 orders with this value.\n"
     ]
    }
   ],
   "source": [
    "modal_order_value=df.mode(axis='index', numeric_only=True)['order_amount'][0]\n",
    "print(f\"Modal order value: ${modal_order_value}\")\n",
    "#how many orders have this order value\n",
    "print(f\"There are {len(df[df.order_amount==modal_order_value])} orders with this value.\")"
   ]
  },
  {
   "cell_type": "markdown",
   "id": "22eab64f-33f7-4b1d-ac5e-702ef5274036",
   "metadata": {},
   "source": [
    "#### Data distribution"
   ]
  },
  {
   "cell_type": "code",
   "execution_count": 13,
   "id": "6a84b355-0b0f-4a0f-bba9-8b1f2488d381",
   "metadata": {},
   "outputs": [
    {
     "data": {
      "image/png": "[encoded data removed]",
      "text/plain": [
       "<Figure size 432x288 with 1 Axes>"
      ]
     },
     "metadata": {
      "needs_background": "light"
     },
     "output_type": "display_data"
    },
    {
     "data": {
      "image/png": "[encoded data removed]",
      "text/plain": [
       "<Figure size 432x288 with 1 Axes>"
      ]
     },
     "metadata": {
      "needs_background": "light"
     },
     "output_type": "display_data"
    }
   ],
   "source": [
    "import matplotlib.pyplot as plt\n",
    "#to make the data distribution shown clearly, outliers are removed\n",
    "df_no_outlier = df[df.order_amount<700000]\n",
    "plt.hist(df_no_outlier['order_amount'], bins=10, color=\"lightblue\")\n",
    "plt.title(\"Order Amount Distribution\")\n",
    "plt.xlabel(\"Order Amount\")\n",
    "plt.ylabel(\"Frequency\")\n",
    "plt.show()\n",
    "\n",
    "#take a closer look\n",
    "plt.hist(df_no_outlier['order_amount'], bins=30, range=[0, 1000], color=\"lightblue\")\n",
    "plt.title(\"Order Amount Distribution\")\n",
    "#the red line represents the median order value\n",
    "plt.axvline(median_order_value, color='red', linestyle='dashed', linewidth=1)\n",
    "#the green line represents the modal order value\n",
    "plt.axvline(modal_order_value, color='green', linestyle='dashed', linewidth=1)\n",
    "plt.xlabel(\"Order Amount\")\n",
    "plt.ylabel(\"Frequency\")\n",
    "plt.show()"
   ]
  },
  {
   "cell_type": "markdown",
   "id": "edafdb7e-5d06-47c3-9480-e9b8e1f1e919",
   "metadata": {},
   "source": [
    "#### Summary for question b:\n",
    "- Although is difficult to tell which one is the best, using only the mean one is the worst especially given the existing outliers.   \n",
    "- If I have to choose one to report, I would say the modal order value. My reason is:   \n",
    "From the histogram, there are over 800 orders near the modal order value, which is more representative of \"quite a number of\" data to some extent. Consider the application scenario, the modal shows the most frequent order amount. If we want to boost sales, we can first focus on these orders, try upsell stragedies after understanding them, which is a more efficient approach."
   ]
  },
  {
   "cell_type": "markdown",
   "id": "a37753f8-b929-4b5e-a3e3-888d9c907b96",
   "metadata": {},
   "source": [
    "### c: What is its value?"
   ]
  },
  {
   "cell_type": "code",
   "execution_count": null,
   "id": "617965a7-0e5b-4e2b-b751-28ab5031ae94",
   "metadata": {},
   "outputs": [],
   "source": [
    "print(f\"Its value is ${modal_order_value}.\")"
   ]
  }
 ],
 "metadata": {
  "kernelspec": {
   "display_name": "Python 3 (ipykernel)",
   "language": "python",
   "name": "python3"
  },
  "language_info": {
   "codemirror_mode": {
    "name": "ipython",
    "version": 3
   },
   "file_extension": ".py",
   "mimetype": "text/x-python",
   "name": "python",
   "nbconvert_exporter": "python",
   "pygments_lexer": "ipython3",
   "version": "3.9.5"
  }
 },
 "nbformat": 4,
 "nbformat_minor": 5
}
