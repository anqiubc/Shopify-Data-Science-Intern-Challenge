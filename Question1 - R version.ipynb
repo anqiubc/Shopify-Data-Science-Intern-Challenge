{
 "cells": [
  {
   "cell_type": "markdown",
   "id": "64274358-775a-4e86-b986-b3964ee2ebc6",
   "metadata": {},
   "source": [
    "## Summer 2022 Data Science Intern Challenge   \n",
    "## Question 1: \n",
    "\n",
    "**by Anqi Li**  \n",
    "2022/01/07\n",
    "\n",
    "Given some sample data, write a program to answer the following: click here to access the required data set\n",
    "\n",
    "On Shopify, we have exactly 100 sneaker shops, and each of these shops sells only one model of shoe. We want to do some analysis of the average order value (AOV). When we look at orders data over a 30 day window, we naively calculate an AOV of $3145.13. Given that we know these shops are selling sneakers, a relatively affordable item, something seems wrong with our analysis. "
   ]
  },
  {
   "cell_type": "markdown",
   "id": "b587cadd-9276-4c5c-9459-9dea1b79628b",
   "metadata": {},
   "source": [
    "### a. Think about what could be going wrong with our calculation. Think about a better way to evaluate this data. "
   ]
  },
  {
   "cell_type": "markdown",
   "id": "cb990f05-e618-49d1-beeb-92c1e71dc4d6",
   "metadata": {
    "tags": []
   },
   "source": [
    "#### (1) Importing data"
   ]
  },
  {
   "cell_type": "code",
   "execution_count": 1,
   "id": "dbe021f4-6af5-4e43-8a48-45754153acdd",
   "metadata": {},
   "outputs": [
    {
     "data": {
      "text/html": [
       "<table class=\"dataframe\">\n",
       "<caption>A data.frame: 3 × 7</caption>\n",
       "<thead>\n",
       "\t<tr><th></th><th scope=col>order_id</th><th scope=col>shop_id</th><th scope=col>user_id</th><th scope=col>order_amount</th><th scope=col>total_items</th><th scope=col>payment_method</th><th scope=col>created_at</th></tr>\n",
       "\t<tr><th></th><th scope=col>&lt;int&gt;</th><th scope=col>&lt;int&gt;</th><th scope=col>&lt;int&gt;</th><th scope=col>&lt;int&gt;</th><th scope=col>&lt;int&gt;</th><th scope=col>&lt;chr&gt;</th><th scope=col>&lt;chr&gt;</th></tr>\n",
       "</thead>\n",
       "<tbody>\n",
       "\t<tr><th scope=row>1</th><td>1</td><td>53</td><td>746</td><td>224</td><td>2</td><td>cash</td><td>2017-03-13 12:36:56</td></tr>\n",
       "\t<tr><th scope=row>2</th><td>2</td><td>92</td><td>925</td><td> 90</td><td>1</td><td>cash</td><td>2017-03-03 17:38:52</td></tr>\n",
       "\t<tr><th scope=row>3</th><td>3</td><td>44</td><td>861</td><td>144</td><td>1</td><td>cash</td><td>2017-03-14 4:23:56 </td></tr>\n",
       "</tbody>\n",
       "</table>\n"
      ],
      "text/latex": [
       "A data.frame: 3 × 7\n",
       "\\begin{tabular}{r|lllllll}\n",
       "  & order\\_id & shop\\_id & user\\_id & order\\_amount & total\\_items & payment\\_method & created\\_at\\\\\n",
       "  & <int> & <int> & <int> & <int> & <int> & <chr> & <chr>\\\\\n",
       "\\hline\n",
       "\t1 & 1 & 53 & 746 & 224 & 2 & cash & 2017-03-13 12:36:56\\\\\n",
       "\t2 & 2 & 92 & 925 &  90 & 1 & cash & 2017-03-03 17:38:52\\\\\n",
       "\t3 & 3 & 44 & 861 & 144 & 1 & cash & 2017-03-14 4:23:56 \\\\\n",
       "\\end{tabular}\n"
      ],
      "text/markdown": [
       "\n",
       "A data.frame: 3 × 7\n",
       "\n",
       "| <!--/--> | order_id &lt;int&gt; | shop_id &lt;int&gt; | user_id &lt;int&gt; | order_amount &lt;int&gt; | total_items &lt;int&gt; | payment_method &lt;chr&gt; | created_at &lt;chr&gt; |\n",
       "|---|---|---|---|---|---|---|---|\n",
       "| 1 | 1 | 53 | 746 | 224 | 2 | cash | 2017-03-13 12:36:56 |\n",
       "| 2 | 2 | 92 | 925 |  90 | 1 | cash | 2017-03-03 17:38:52 |\n",
       "| 3 | 3 | 44 | 861 | 144 | 1 | cash | 2017-03-14 4:23:56  |\n",
       "\n"
      ],
      "text/plain": [
       "  order_id shop_id user_id order_amount total_items payment_method\n",
       "1 1        53      746     224          2           cash          \n",
       "2 2        92      925      90          1           cash          \n",
       "3 3        44      861     144          1           cash          \n",
       "  created_at         \n",
       "1 2017-03-13 12:36:56\n",
       "2 2017-03-03 17:38:52\n",
       "3 2017-03-14 4:23:56 "
      ]
     },
     "metadata": {},
     "output_type": "display_data"
    }
   ],
   "source": [
    "library(readr)\n",
    "df <- read.csv(\"2019 Winter Data Science Intern Challenge Data Set - Sheet1.csv\") \n",
    "head(df,3)"
   ]
  },
  {
   "cell_type": "markdown",
   "id": "9276439e-a1f1-4bf2-8e03-037b25fbafb0",
   "metadata": {},
   "source": [
    "#### (2) Calculate the AOV and evaluate this data"
   ]
  },
  {
   "cell_type": "code",
   "execution_count": 2,
   "id": "55a404b1-25a2-4259-bb08-b99e62d7d50f",
   "metadata": {},
   "outputs": [
    {
     "data": {
      "text/html": [
       "<span style=white-space:pre-wrap>'The number of orders:  5000'</span>"
      ],
      "text/latex": [
       "'The number of orders:  5000'"
      ],
      "text/markdown": [
       "<span style=white-space:pre-wrap>'The number of orders:  5000'</span>"
      ],
      "text/plain": [
       "[1] \"The number of orders:  5000\""
      ]
     },
     "metadata": {},
     "output_type": "display_data"
    },
    {
     "data": {
      "text/html": [
       "'The total revenue: $ 15725640'"
      ],
      "text/latex": [
       "'The total revenue: \\$ 15725640'"
      ],
      "text/markdown": [
       "'The total revenue: $ 15725640'"
      ],
      "text/plain": [
       "[1] \"The total revenue: $ 15725640\""
      ]
     },
     "metadata": {},
     "output_type": "display_data"
    },
    {
     "data": {
      "text/html": [
       "'The average order value: $ 3145.13'"
      ],
      "text/latex": [
       "'The average order value: \\$ 3145.13'"
      ],
      "text/markdown": [
       "'The average order value: $ 3145.13'"
      ],
      "text/plain": [
       "[1] \"The average order value: $ 3145.13\""
      ]
     },
     "metadata": {},
     "output_type": "display_data"
    }
   ],
   "source": [
    "paste(\"The number of orders: \", nrow(df))\n",
    "paste(\"The total revenue: $\", sum(df$order_amount))\n",
    "paste(\"The average order value: $\", round(sum(df$order_amount)/nrow(df),2))"
   ]
  },
  {
   "cell_type": "markdown",
   "id": "7ff8048e-620a-444c-9f66-9eec0be347af",
   "metadata": {},
   "source": [
    "Given that we know these shops are selling sneakers, the AOV seems much higher than normal expectation. \n",
    "According to my speculation, this may indicate we have outliers pushing the value way up.  \n",
    "I will do the following approach to check if this is true."
   ]
  },
  {
   "cell_type": "code",
   "execution_count": 3,
   "id": "7d60735a-2e98-45b1-9a8b-39f9cbf363b4",
   "metadata": {},
   "outputs": [
    {
     "data": {
      "text/plain": [
       "   Min. 1st Qu.  Median    Mean 3rd Qu.    Max. \n",
       "     90     163     284    3145     390  704000 "
      ]
     },
     "metadata": {},
     "output_type": "display_data"
    }
   ],
   "source": [
    "summary(df$order_amount)"
   ]
  },
  {
   "cell_type": "code",
   "execution_count": 11,
   "id": "a6c7b39b-e794-4279-9c8b-f6e78ccc931a",
   "metadata": {},
   "outputs": [
    {
     "data": {
      "image/png": "[encoded data removed]",
      "text/plain": [
       "plot without title"
      ]
     },
     "metadata": {
      "image/png": {
       "height": 300,
       "width": 480
      }
     },
     "output_type": "display_data"
    }
   ],
   "source": [
    "library(tidyverse)\n",
    "df%>%\n",
    "ggplot()+\n",
    "aes(y=order_amount)+\n",
    "coord_trans(y = \"log\")+\n",
    "geom_boxplot()+\n",
    "theme_bw()"
   ]
  },
  {
   "cell_type": "markdown",
   "id": "1230817d-18a3-4823-a2e0-cf8f8500c9e7",
   "metadata": {},
   "source": [
    "It is easy to see that there's outliers. The AOV is not representative (and misleading...) for our analysis.  \n",
    "I did a simple data filter to monitor the outliers here."
   ]
  },
  {
   "cell_type": "code",
   "execution_count": 5,
   "id": "0f739ed7-984f-4935-a2bc-3cd7146bc8f7",
   "metadata": {},
   "outputs": [
    {
     "data": {
      "text/html": [
       "<table class=\"dataframe\">\n",
       "<caption>A data.frame: 17 × 7</caption>\n",
       "<thead>\n",
       "\t<tr><th scope=col>order_id</th><th scope=col>shop_id</th><th scope=col>user_id</th><th scope=col>order_amount</th><th scope=col>total_items</th><th scope=col>payment_method</th><th scope=col>created_at</th></tr>\n",
       "\t<tr><th scope=col>&lt;int&gt;</th><th scope=col>&lt;int&gt;</th><th scope=col>&lt;int&gt;</th><th scope=col>&lt;int&gt;</th><th scope=col>&lt;int&gt;</th><th scope=col>&lt;chr&gt;</th><th scope=col>&lt;chr&gt;</th></tr>\n",
       "</thead>\n",
       "<tbody>\n",
       "\t<tr><td>  16</td><td>42</td><td>607</td><td>704000</td><td>2000</td><td>credit_card</td><td>2017-03-07 4:00:00</td></tr>\n",
       "\t<tr><td>  61</td><td>42</td><td>607</td><td>704000</td><td>2000</td><td>credit_card</td><td>2017-03-04 4:00:00</td></tr>\n",
       "\t<tr><td> 521</td><td>42</td><td>607</td><td>704000</td><td>2000</td><td>credit_card</td><td>2017-03-02 4:00:00</td></tr>\n",
       "\t<tr><td>1105</td><td>42</td><td>607</td><td>704000</td><td>2000</td><td>credit_card</td><td>2017-03-24 4:00:00</td></tr>\n",
       "\t<tr><td>1363</td><td>42</td><td>607</td><td>704000</td><td>2000</td><td>credit_card</td><td>2017-03-15 4:00:00</td></tr>\n",
       "\t<tr><td>1437</td><td>42</td><td>607</td><td>704000</td><td>2000</td><td>credit_card</td><td>2017-03-11 4:00:00</td></tr>\n",
       "\t<tr><td>1563</td><td>42</td><td>607</td><td>704000</td><td>2000</td><td>credit_card</td><td>2017-03-19 4:00:00</td></tr>\n",
       "\t<tr><td>1603</td><td>42</td><td>607</td><td>704000</td><td>2000</td><td>credit_card</td><td>2017-03-17 4:00:00</td></tr>\n",
       "\t<tr><td>2154</td><td>42</td><td>607</td><td>704000</td><td>2000</td><td>credit_card</td><td>2017-03-12 4:00:00</td></tr>\n",
       "\t<tr><td>2298</td><td>42</td><td>607</td><td>704000</td><td>2000</td><td>credit_card</td><td>2017-03-07 4:00:00</td></tr>\n",
       "\t<tr><td>2836</td><td>42</td><td>607</td><td>704000</td><td>2000</td><td>credit_card</td><td>2017-03-28 4:00:00</td></tr>\n",
       "\t<tr><td>2970</td><td>42</td><td>607</td><td>704000</td><td>2000</td><td>credit_card</td><td>2017-03-28 4:00:00</td></tr>\n",
       "\t<tr><td>3333</td><td>42</td><td>607</td><td>704000</td><td>2000</td><td>credit_card</td><td>2017-03-24 4:00:00</td></tr>\n",
       "\t<tr><td>4057</td><td>42</td><td>607</td><td>704000</td><td>2000</td><td>credit_card</td><td>2017-03-28 4:00:00</td></tr>\n",
       "\t<tr><td>4647</td><td>42</td><td>607</td><td>704000</td><td>2000</td><td>credit_card</td><td>2017-03-02 4:00:00</td></tr>\n",
       "\t<tr><td>4869</td><td>42</td><td>607</td><td>704000</td><td>2000</td><td>credit_card</td><td>2017-03-22 4:00:00</td></tr>\n",
       "\t<tr><td>4883</td><td>42</td><td>607</td><td>704000</td><td>2000</td><td>credit_card</td><td>2017-03-25 4:00:00</td></tr>\n",
       "</tbody>\n",
       "</table>\n"
      ],
      "text/latex": [
       "A data.frame: 17 × 7\n",
       "\\begin{tabular}{lllllll}\n",
       " order\\_id & shop\\_id & user\\_id & order\\_amount & total\\_items & payment\\_method & created\\_at\\\\\n",
       " <int> & <int> & <int> & <int> & <int> & <chr> & <chr>\\\\\n",
       "\\hline\n",
       "\t   16 & 42 & 607 & 704000 & 2000 & credit\\_card & 2017-03-07 4:00:00\\\\\n",
       "\t   61 & 42 & 607 & 704000 & 2000 & credit\\_card & 2017-03-04 4:00:00\\\\\n",
       "\t  521 & 42 & 607 & 704000 & 2000 & credit\\_card & 2017-03-02 4:00:00\\\\\n",
       "\t 1105 & 42 & 607 & 704000 & 2000 & credit\\_card & 2017-03-24 4:00:00\\\\\n",
       "\t 1363 & 42 & 607 & 704000 & 2000 & credit\\_card & 2017-03-15 4:00:00\\\\\n",
       "\t 1437 & 42 & 607 & 704000 & 2000 & credit\\_card & 2017-03-11 4:00:00\\\\\n",
       "\t 1563 & 42 & 607 & 704000 & 2000 & credit\\_card & 2017-03-19 4:00:00\\\\\n",
       "\t 1603 & 42 & 607 & 704000 & 2000 & credit\\_card & 2017-03-17 4:00:00\\\\\n",
       "\t 2154 & 42 & 607 & 704000 & 2000 & credit\\_card & 2017-03-12 4:00:00\\\\\n",
       "\t 2298 & 42 & 607 & 704000 & 2000 & credit\\_card & 2017-03-07 4:00:00\\\\\n",
       "\t 2836 & 42 & 607 & 704000 & 2000 & credit\\_card & 2017-03-28 4:00:00\\\\\n",
       "\t 2970 & 42 & 607 & 704000 & 2000 & credit\\_card & 2017-03-28 4:00:00\\\\\n",
       "\t 3333 & 42 & 607 & 704000 & 2000 & credit\\_card & 2017-03-24 4:00:00\\\\\n",
       "\t 4057 & 42 & 607 & 704000 & 2000 & credit\\_card & 2017-03-28 4:00:00\\\\\n",
       "\t 4647 & 42 & 607 & 704000 & 2000 & credit\\_card & 2017-03-02 4:00:00\\\\\n",
       "\t 4869 & 42 & 607 & 704000 & 2000 & credit\\_card & 2017-03-22 4:00:00\\\\\n",
       "\t 4883 & 42 & 607 & 704000 & 2000 & credit\\_card & 2017-03-25 4:00:00\\\\\n",
       "\\end{tabular}\n"
      ],
      "text/markdown": [
       "\n",
       "A data.frame: 17 × 7\n",
       "\n",
       "| order_id &lt;int&gt; | shop_id &lt;int&gt; | user_id &lt;int&gt; | order_amount &lt;int&gt; | total_items &lt;int&gt; | payment_method &lt;chr&gt; | created_at &lt;chr&gt; |\n",
       "|---|---|---|---|---|---|---|\n",
       "|   16 | 42 | 607 | 704000 | 2000 | credit_card | 2017-03-07 4:00:00 |\n",
       "|   61 | 42 | 607 | 704000 | 2000 | credit_card | 2017-03-04 4:00:00 |\n",
       "|  521 | 42 | 607 | 704000 | 2000 | credit_card | 2017-03-02 4:00:00 |\n",
       "| 1105 | 42 | 607 | 704000 | 2000 | credit_card | 2017-03-24 4:00:00 |\n",
       "| 1363 | 42 | 607 | 704000 | 2000 | credit_card | 2017-03-15 4:00:00 |\n",
       "| 1437 | 42 | 607 | 704000 | 2000 | credit_card | 2017-03-11 4:00:00 |\n",
       "| 1563 | 42 | 607 | 704000 | 2000 | credit_card | 2017-03-19 4:00:00 |\n",
       "| 1603 | 42 | 607 | 704000 | 2000 | credit_card | 2017-03-17 4:00:00 |\n",
       "| 2154 | 42 | 607 | 704000 | 2000 | credit_card | 2017-03-12 4:00:00 |\n",
       "| 2298 | 42 | 607 | 704000 | 2000 | credit_card | 2017-03-07 4:00:00 |\n",
       "| 2836 | 42 | 607 | 704000 | 2000 | credit_card | 2017-03-28 4:00:00 |\n",
       "| 2970 | 42 | 607 | 704000 | 2000 | credit_card | 2017-03-28 4:00:00 |\n",
       "| 3333 | 42 | 607 | 704000 | 2000 | credit_card | 2017-03-24 4:00:00 |\n",
       "| 4057 | 42 | 607 | 704000 | 2000 | credit_card | 2017-03-28 4:00:00 |\n",
       "| 4647 | 42 | 607 | 704000 | 2000 | credit_card | 2017-03-02 4:00:00 |\n",
       "| 4869 | 42 | 607 | 704000 | 2000 | credit_card | 2017-03-22 4:00:00 |\n",
       "| 4883 | 42 | 607 | 704000 | 2000 | credit_card | 2017-03-25 4:00:00 |\n",
       "\n"
      ],
      "text/plain": [
       "   order_id shop_id user_id order_amount total_items payment_method\n",
       "1    16     42      607     704000       2000        credit_card   \n",
       "2    61     42      607     704000       2000        credit_card   \n",
       "3   521     42      607     704000       2000        credit_card   \n",
       "4  1105     42      607     704000       2000        credit_card   \n",
       "5  1363     42      607     704000       2000        credit_card   \n",
       "6  1437     42      607     704000       2000        credit_card   \n",
       "7  1563     42      607     704000       2000        credit_card   \n",
       "8  1603     42      607     704000       2000        credit_card   \n",
       "9  2154     42      607     704000       2000        credit_card   \n",
       "10 2298     42      607     704000       2000        credit_card   \n",
       "11 2836     42      607     704000       2000        credit_card   \n",
       "12 2970     42      607     704000       2000        credit_card   \n",
       "13 3333     42      607     704000       2000        credit_card   \n",
       "14 4057     42      607     704000       2000        credit_card   \n",
       "15 4647     42      607     704000       2000        credit_card   \n",
       "16 4869     42      607     704000       2000        credit_card   \n",
       "17 4883     42      607     704000       2000        credit_card   \n",
       "   created_at        \n",
       "1  2017-03-07 4:00:00\n",
       "2  2017-03-04 4:00:00\n",
       "3  2017-03-02 4:00:00\n",
       "4  2017-03-24 4:00:00\n",
       "5  2017-03-15 4:00:00\n",
       "6  2017-03-11 4:00:00\n",
       "7  2017-03-19 4:00:00\n",
       "8  2017-03-17 4:00:00\n",
       "9  2017-03-12 4:00:00\n",
       "10 2017-03-07 4:00:00\n",
       "11 2017-03-28 4:00:00\n",
       "12 2017-03-28 4:00:00\n",
       "13 2017-03-24 4:00:00\n",
       "14 2017-03-28 4:00:00\n",
       "15 2017-03-02 4:00:00\n",
       "16 2017-03-22 4:00:00\n",
       "17 2017-03-25 4:00:00"
      ]
     },
     "metadata": {},
     "output_type": "display_data"
    }
   ],
   "source": [
    "outlier <- df %>% filter(order_amount>200000)\n",
    "outlier"
   ]
  },
  {
   "cell_type": "markdown",
   "id": "366ce49f-3788-4d19-96c5-2e409ab91a45",
   "metadata": {},
   "source": [
    "By looking at the outliers, the shop_id, user_id, order_amount, total_items, payment_method and even the timestamp is exactly the same - which is almost impossible. I would say there is be an error in the data generation process which needs to be checked.   \n",
    "However, given no further information(like if this transition exists), removing them is very arbitrary, so I would first keep the outliers for my following calculation for the metrics. And if I know the correct data, I would correct the following values as well."
   ]
  },
  {
   "cell_type": "markdown",
   "id": "36165504-cde3-4e68-9b52-629ee84dc622",
   "metadata": {
    "tags": []
   },
   "source": [
    "### b. What metric would you report for this dataset?\n",
    "\n",
    "The fact that outliers exist means using AOV to evaluate is not proper here.  \n",
    "Actually, only by looking at \"average\" order value is not a proper approach to evaluate customers' purchase behavior. When evaluate user purchase behaviours, we should consider all three measures of central tendency - mean, median and mode. \n"
   ]
  },
  {
   "cell_type": "markdown",
   "id": "cd26c613-449b-45b9-b894-be9736456da9",
   "metadata": {
    "tags": []
   },
   "source": [
    "#### Median order value\n",
    "Using the median is more robust to deal with the situation with the outlier. "
   ]
  },
  {
   "cell_type": "code",
   "execution_count": 6,
   "id": "a79cb85a-e5f6-4539-978b-5333335be62c",
   "metadata": {},
   "outputs": [
    {
     "data": {
      "text/html": [
       "'Median order value: $ 284'"
      ],
      "text/latex": [
       "'Median order value: \\$ 284'"
      ],
      "text/markdown": [
       "'Median order value: $ 284'"
      ],
      "text/plain": [
       "[1] \"Median order value: $ 284\""
      ]
     },
     "metadata": {},
     "output_type": "display_data"
    }
   ],
   "source": [
    "median_order_value<-median(df$order_amount)\n",
    "paste(\"Median order value: $\", median_order_value)"
   ]
  },
  {
   "cell_type": "markdown",
   "id": "3ef67ab7-8abd-41f5-8489-75e0a14f9201",
   "metadata": {},
   "source": [
    "#### Modal order value"
   ]
  },
  {
   "cell_type": "code",
   "execution_count": 7,
   "id": "48dafa05-8982-4a95-9436-314645f45f6f",
   "metadata": {},
   "outputs": [
    {
     "data": {
      "text/html": [
       "'Modal order value: $ 153'"
      ],
      "text/latex": [
       "'Modal order value: \\$ 153'"
      ],
      "text/markdown": [
       "'Modal order value: $ 153'"
      ],
      "text/plain": [
       "[1] \"Modal order value: $ 153\""
      ]
     },
     "metadata": {},
     "output_type": "display_data"
    },
    {
     "data": {
      "text/html": [
       "'There are 87 orders with this value.'"
      ],
      "text/latex": [
       "'There are 87 orders with this value.'"
      ],
      "text/markdown": [
       "'There are 87 orders with this value.'"
      ],
      "text/plain": [
       "[1] \"There are 87 orders with this value.\""
      ]
     },
     "metadata": {},
     "output_type": "display_data"
    }
   ],
   "source": [
    "getmode <- function(v) {\n",
    "   uniqv <- unique(v)\n",
    "   uniqv[which.max(tabulate(match(v, uniqv)))]\n",
    "}\n",
    "modal_order_value<-getmode(df$order_amount)\n",
    "paste(\"Modal order value: $\", modal_order_value)\n",
    "#how many orders have this order value\n",
    "paste(\"There are\",nrow(df%>%filter(order_amount==153)),\"orders with this value.\")"
   ]
  },
  {
   "cell_type": "markdown",
   "id": "22eab64f-33f7-4b1d-ac5e-702ef5274036",
   "metadata": {},
   "source": [
    "#### Data distribution"
   ]
  },
  {
   "cell_type": "code",
   "execution_count": 27,
   "id": "430148d9-2b9d-4c5c-af9a-6ad8576d4bfb",
   "metadata": {},
   "outputs": [
    {
     "name": "stderr",
     "output_type": "stream",
     "text": [
      "Warning message:\n",
      "\"Removed 54 rows containing non-finite values (stat_bin).\"\n",
      "Warning message:\n",
      "\"Removed 2 rows containing missing values (geom_bar).\"\n"
     ]
    },
    {
     "data": {
      "image/png": "[encoded data removed]",
      "text/plain": [
       "plot without title"
      ]
     },
     "metadata": {
      "image/png": {
       "height": 300,
       "width": 360
      }
     },
     "output_type": "display_data"
    },
    {
     "data": {
      "image/png": "[encoded data removed]",
      "text/plain": [
       "plot without title"
      ]
     },
     "metadata": {
      "image/png": {
       "height": 300,
       "width": 360
      }
     },
     "output_type": "display_data"
    }
   ],
   "source": [
    "#to make the data distribution shown clearly, outliers are filtered\n",
    "df %>%\n",
    "filter(order_amount<700000) %>%\n",
    "ggplot()+\n",
    "aes(x=order_amount)+\n",
    "geom_histogram(bins = 25, fill=\"lightblue\")+\n",
    "labs(x=\"Order Amount\",y=\"Frequency\",title=\"Order Amount Distribution\")\n",
    "\n",
    "#take a closer look\n",
    "df %>%\n",
    "filter(order_amount<700000) %>%\n",
    "ggplot()+\n",
    "aes(x=order_amount)+\n",
    "geom_histogram(bins=25, fill=\"lightblue\",alpha=0.9)+\n",
    "xlim(0,1000)+\n",
    "#the red line represents the median order value\n",
    "geom_vline(xintercept=median_order_value, linetype=\"dashed\", color=\"red\")+\n",
    "#the green line represents the modal order value\n",
    "geom_vline(xintercept=modal_order_value, linetype=\"dashed\", color=\"darkgreen\")+\n",
    "labs(x=\"Order Amount\",y=\"Frequency\",title=\"Order Amount Distribution\")\n",
    "\n",
    "options(repr.plot.width=6, repr.plot.height=5)"
   ]
  },
  {
   "cell_type": "markdown",
   "id": "edafdb7e-5d06-47c3-9480-e9b8e1f1e919",
   "metadata": {},
   "source": [
    "#### Summary for question b:\n",
    "- Although is difficult to tell which one is the best, using only the mean one is the worst especially given the existing outliers.   \n",
    "- If I have to choose one to report, I would say the modal order value. My reason is:   \n",
    "From the histogram, there are over 800 orders near the modal order value, which is more representative of \"quite a number of\" data to some extent. Consider the application scenario, the modal shows the most frequent order amount. If we want to boost sales, we can first focus on these orders, try upsell stragedies after understanding them, which is a more efficient approach."
   ]
  },
  {
   "cell_type": "markdown",
   "id": "a37753f8-b929-4b5e-a3e3-888d9c907b96",
   "metadata": {},
   "source": [
    "### c: What is its value?"
   ]
  },
  {
   "cell_type": "code",
   "execution_count": 9,
   "id": "617965a7-0e5b-4e2b-b751-28ab5031ae94",
   "metadata": {},
   "outputs": [
    {
     "data": {
      "text/html": [
       "'Its value is $ 153 .'"
      ],
      "text/latex": [
       "'Its value is \\$ 153 .'"
      ],
      "text/markdown": [
       "'Its value is $ 153 .'"
      ],
      "text/plain": [
       "[1] \"Its value is $ 153 .\""
      ]
     },
     "metadata": {},
     "output_type": "display_data"
    }
   ],
   "source": [
    "paste(\"Its value is $\", modal_order_value,\".\")"
   ]
  }
 ],
 "metadata": {
  "kernelspec": {
   "display_name": "R",
   "language": "R",
   "name": "ir"
  },
  "language_info": {
   "codemirror_mode": "r",
   "file_extension": ".r",
   "mimetype": "text/x-r-source",
   "name": "R",
   "pygments_lexer": "r",
   "version": "4.1.2"
  }
 },
 "nbformat": 4,
 "nbformat_minor": 5
}
